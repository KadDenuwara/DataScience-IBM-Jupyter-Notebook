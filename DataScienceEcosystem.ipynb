{
 "cells": [
  {
   "cell_type": "markdown",
   "metadata": {},
   "source": [
    "<center>\n",
    "    <img src=\"https://cf-courses-data.s3.us.cloud-object-storage.appdomain.cloud/IBMDeveloperSkillsNetwork-DS0105EN-SkillsNetwork/labs/Module2/images/SN_web_lightmode.png\" width=\"300\" alt=\"cognitiveclass.ai logo\">\n",
    "</center>\n"
   ]
  },
  {
   "cell_type": "markdown",
   "metadata": {},
   "source": [
    "# Hands-on Lab: Create your Jupyter Notebook\n"
   ]
  },
  {
   "cell_type": "markdown",
   "metadata": {},
   "source": [
    "#### Add your code below following the instructions given in the course\n"
   ]
  },
  {
   "cell_type": "markdown",
   "metadata": {},
   "source": [
    "# Exercise 2: Create markdown cell with title of the notebook"
   ]
  },
  {
   "cell_type": "markdown",
   "metadata": {},
   "source": [
    "# Data Science Tools and Ecosystem "
   ]
  },
  {
   "cell_type": "markdown",
   "metadata": {},
   "source": [
    "# Exercise 3 - Create a markdown cell for an introduction"
   ]
  },
  {
   "cell_type": "markdown",
   "metadata": {},
   "source": [
    "## In this notebook, Data Science Tools and Ecosystem are summarized."
   ]
  },
  {
   "cell_type": "markdown",
   "metadata": {},
   "source": [
    "# Exercise 4 - Create a markdown cell to list data science languages"
   ]
  },
  {
   "cell_type": "markdown",
   "metadata": {},
   "source": [
    "Some of the popular languages that Data Scientists use are:\n",
    "\n",
    "1. **Python**: Widely used for its simplicity and powerful libraries like NumPy, Pandas, and scikit-learn.\n",
    "2. **R**: Specifically designed for statistical analysis and visualization, with packages like ggplot2 and dplyr.\n",
    "3. **SQL**: Essential for querying and managing data stored in relational databases.\n",
    "4. **Java**: Known for its robustness and performance, often used in large-scale data processing.\n",
    "5. **Julia**: Gaining popularity for its high-performance capabilities in numerical and scientific computing.\n",
    "6. **Scala**: Used with big data frameworks like Apache Spark, suitable for scalable data processing.\n",
    "7. **MATLAB**: Frequently used in academia and industries for algorithm development, data analysis, and numerical computation.\n",
    "8. **SAS**: Often used in the business and healthcare sectors for advanced analytics and data management.\n",
    "9. **C++**: Utilized for performance-critical applications and in areas such as game development and high-frequency trading.\n",
    "10. **JavaScript**: Commonly used for building interactive data visualizations and front-end applications.\n",
    "11. **Perl**: Known for its text processing capabilities, often used in bioinformatics and network programming.\n",
    "\n",
    "These languages form the backbone of many data science projects and workflows, each bringing unique strengths to the table."
   ]
  },
  {
   "cell_type": "markdown",
   "metadata": {},
   "source": [
    "# Exercise 5 - Create a markdown cell to list data science libraries"
   ]
  },
  {
   "cell_type": "markdown",
   "metadata": {},
   "source": [
    "Some of the commonly used libraries by Data Scientists include:\n",
    "\n",
    "### Python\n",
    "1. **NumPy**: A fundamental package for numerical computing in Python. It provides support for arrays, matrices, and many mathematical functions to operate on these data structures efficiently.\n",
    "   - **Usage**: Numerical calculations, statistical operations, and efficient handling of large datasets.\n",
    "   - **Strengths**: Highly optimized for performance; supports integration with other languages like C and Fortran.\n",
    "\n",
    "2. **Pandas**: A powerful library for data manipulation and analysis, offering data structures like DataFrame that make it easy to work with structured data.\n",
    "   - **Usage**: Data cleaning, transformation, merging, and aggregation.\n",
    "   - **Strengths**: Intuitive API; handles missing data gracefully; allows for flexible reshaping and pivoting of datasets.\n",
    "\n",
    "3. **Matplotlib**: A plotting library for creating static, interactive, and animated visualizations in Python.\n",
    "   - **Usage**: Creating a wide range of visualizations such as line plots, bar charts, histograms, and scatter plots.\n",
    "   - **Strengths**: Detailed control over plot appearance; extensive documentation and community support.\n",
    "\n",
    "4. **scikit-learn**: A comprehensive library for machine learning in Python. It provides tools for data mining, data analysis, and machine learning tasks.\n",
    "   - **Usage**: Implementing machine learning algorithms, model evaluation, and selection.\n",
    "   - **Strengths**: Consistent API; works seamlessly with NumPy and Pandas; extensive range of algorithms.\n",
    "\n",
    "5. **TensorFlow**: An open-source library developed by Google for deep learning and neural network tasks.\n",
    "   - **Usage**: Building and training deep learning models; research in artificial intelligence.\n",
    "   - **Strengths**: Scalability; strong community and support; integration with other Google services.\n",
    "\n",
    "6. **Seaborn**: A statistical data visualization library based on Matplotlib.\n",
    "   - **Usage**: Visualizing statistical relationships, data distributions, and multivariate datasets.\n",
    "   - **Strengths**: Simplifies complex visualizations; aesthetically pleasing plots with minimal code.\n",
    "\n",
    "### R\n",
    "1. **ggplot2**: A powerful visualization package based on the Grammar of Graphics, making it easy to create complex and aesthetically pleasing plots.\n",
    "   - **Usage**: Creating advanced data visualizations.\n",
    "   - **Strengths**: Highly customizable; great for exploratory data analysis.\n",
    "\n",
    "2. **dplyr**: A package for data manipulation that provides a set of intuitive functions for filtering, selecting, and transforming data.\n",
    "   - **Usage**: Data wrangling and transformation.\n",
    "   - **Strengths**: Intuitive syntax; highly efficient; integrates well with other tidyverse packages.\n",
    "\n",
    "3. **tidyr**: A package for tidying data, ensuring that datasets are in a consistent and easily analyzable format.\n",
    "   - **Usage**: Data cleaning and reshaping.\n",
    "   - **Strengths**: Simplifies data transformation tasks; works seamlessly with dplyr.\n",
    "\n",
    "4. **Shiny**: A web application framework for R that allows you to build interactive web apps straight from R.\n",
    "   - **Usage**: Creating interactive dashboards and data visualization apps.\n",
    "   - **Strengths**: Easy to use; highly interactive; extensive documentation.\n",
    "\n",
    "5. **caret**: A package that streamlines the process of creating predictive models by providing a consistent interface to various machine learning algorithms.\n",
    "   - **Usage**: Machine learning and predictive modeling.\n",
    "   - **Strengths**: Simplifies model training and tuning; supports a wide range of algorithms.\n",
    "\n",
    "### Julia\n",
    "1. **DataFrames.jl**: A library for working with tabular data in Julia, similar to Pandas in Python.\n",
    "   - **Usage**: Data manipulation and analysis.\n",
    "   - **Strengths**: High performance; easy to use; integrates well with other Julia packages.\n",
    "\n",
    "2. **Plots.jl**: A plotting library that provides a simple and flexible interface for creating visualizations.\n",
    "   - **Usage**: Creating a wide range of plots and visualizations.\n",
    "   - **Strengths**: Highly customizable; supports multiple backends; easy to use.\n",
    "\n",
    "3. **MLJ.jl**: A package for machine learning that provides tools for model selection, evaluation, and tuning.\n",
    "   - **Usage**: Implementing and comparing machine learning models.\n",
    "   - **Strengths**: Consistent API; supports a wide range of algorithms; integrates well with other Julia packages.\n",
    "\n",
    "### Scala\n",
    "1. **Breeze**: A library for numerical processing, which includes support for linear algebra, optimization, and signal processing.\n",
    "   - **Usage**: Numerical calculations and machine learning.\n",
    "   - **Strengths**: High performance; comprehensive functionality; integrates well with Apache Spark.\n",
    "\n",
    "2. **Apache Spark MLlib**: A scalable machine learning library built on top of Apache Spark.\n",
    "   - **Usage**: Distributed machine learning and data processing.\n",
    "   - **Strengths**: Scalability; support for a wide range of algorithms; integration with the Spark ecosystem.\n",
    "\n",
    "### SAS\n",
    "1. **SAS/STAT**: A suite of statistical analysis tools provided by SAS.\n",
    "   - **Usage**: Advanced statistical analysis and modeling.\n",
    "   - **Strengths**: Comprehensive functionality; highly reliable; widely used in the industry.\n",
    "\n",
    "2. **SAS/ETS**: A package for econometric and time series analysis.\n",
    "   - **Usage**: Time series analysis and forecasting.\n",
    "   - **Strengths**: Advanced econometric capabilities; highly customizable.\n",
    "\n",
    "### JavaScript\n",
    "1. **D3.js**: A powerful library for creating dynamic and interactive data visualizations in the web.\n",
    "   - **Usage**: Data visualization and interactive graphics.\n",
    "   - **Strengths**: High flexibility; supports complex visualizations; large community and extensive documentation.\n",
    "\n",
    "2. **Chart.js**: A simple yet flexible charting library that supports various chart types.\n",
    "   - **Usage**: Creating charts and graphs for web applications.\n",
    "   - **Strengths**: Easy to use; responsive; supports animations.\n",
    "\n",
    "### MATLAB\n",
    "1. **MATLAB Statistics and Machine Learning Toolbox**: A toolbox that provides functions and apps for statistical analysis and machine learning.\n",
    "   - **Usage**: Statistical analysis, machine learning, and predictive modeling.\n",
    "   - **Strengths**: Comprehensive functionality; integrates well with MATLAB environment.\n",
    "\n",
    "2. **MATLAB Optimization Toolbox**: A toolbox for solving optimization problems.\n",
    "   - **Usage**: Mathematical optimization and algorithm development.\n",
    "   - **Strengths**: Advanced optimization algorithms; highly customizable.\n",
    "\n",
    "These libraries are essential tools in a data scientist's toolkit, each offering unique capabilities to handle various stages of the data analysis process across multiple programming languages."
   ]
  },
  {
   "cell_type": "markdown",
   "metadata": {},
   "source": [
    "# Exercise 6 - Create a markdown cell with a table of Data Science tools"
   ]
  },
  {
   "cell_type": "markdown",
   "metadata": {},
   "source": [
    "Some of the commonly used development environment open source tools used in data science are:\n",
    "\n",
    "| **Data Science Tools**          |\n",
    "|----------------------------------|\n",
    "| Jupyter Notebook                 |\n",
    "| RStudio                          |\n",
    "| Apache Zeppelin                  |\n",
    "| Spyder                           |\n",
    "| KNIME                            |\n",
    "| Orange                           |\n",
    "| VS Code                          |\n",
    "| Google Colab                     |\n",
    "\n",
    "### Tool Analysis and Elaboration\n",
    "\n",
    "1. **Jupyter Notebook**:\n",
    "   - **Overview**: An open-source web application that allows you to create and share documents containing live code, equations, visualizations, and narrative text. It supports various programming languages like Python, R, and Julia.\n",
    "   - **Strengths**:\n",
    "     - Interactive Computing: Provides an interactive environment for data analysis and exploration.\n",
    "     - Rich Text Support: Allows the inclusion of descriptive text, equations (with LaTeX), and visualizations, enhancing documentation and presentations.\n",
    "     - Integration: Seamlessly integrates with numerous data science libraries, making it a versatile tool for different stages of data analysis.\n",
    "     - Extensibility: Support for plugins and extensions to enhance functionality.\n",
    "   - **Usage**: Widely used in academia and industry for data cleaning, transformation, numerical simulation, statistical modeling, and machine learning.\n",
    "\n",
    "2. **RStudio**:\n",
    "   - **Overview**: An integrated development environment (IDE) specifically designed for R programming, which is known for its statistical computing and graphics capabilities.\n",
    "   - **Strengths**:\n",
    "     - User-friendly Interface: Offers an intuitive interface for coding, debugging, and managing projects in R.\n",
    "     - Reproducible Research: Enables the creation of reproducible reports and dashboards using R Markdown.\n",
    "     - Package Management: Extensive support for packages from CRAN and Bioconductor, facilitating diverse statistical and graphical tasks.\n",
    "     - Version Control: Integrates with version control systems like Git and SVN, supporting collaborative projects.\n",
    "   - **Usage**: Commonly used for statistical analysis, data visualization, data cleaning, and report generation.\n",
    "\n",
    "3. **Apache Zeppelin**:\n",
    "   - **Overview**: A web-based notebook that enables interactive data analytics. It supports multiple languages such as Scala, Python, R, and SQL.\n",
    "   - **Strengths**:\n",
    "     - Multi-language Support: Allows code snippets in various languages, making it versatile for different data processing tasks.\n",
    "     - Big Data Integration: Works well with big data tools like Apache Spark and Hadoop, facilitating large-scale data analysis.\n",
    "     - Collaboration: Provides real-time collaboration features, enabling teams to work together on data analysis projects.\n",
    "     - Visualizations: Offers powerful visualization tools to create interactive and dynamic plots.\n",
    "   - **Usage**: Ideal for exploratory data analysis, visualization, and collaborative data science projects involving large datasets.\n",
    "\n",
    "4. **Spyder**:\n",
    "   - **Overview**: An open-source Integrated Development Environment (IDE) for scientific programming in Python, designed specifically for data analysis.\n",
    "   - **Strengths**:\n",
    "     - Built-in Variable Explorer: Allows users to inspect and manipulate dataframes and variables in real-time.\n",
    "     - IPython Integration: Provides an interactive IPython console, enhancing the interactive computing experience.\n",
    "     - Debugging and Profiling: Offers powerful debugging and profiling tools to optimize code performance.\n",
    "     - Rich Library Support: Compatible with various scientific and data science libraries such as NumPy, Pandas, Matplotlib, and scikit-learn.\n",
    "   - **Usage**: Used for data analysis, scientific computing, and interactive data exploration.\n",
    "\n",
    "5. **KNIME**:\n",
    "   - **Overview**: An open-source platform for data analytics, reporting, and integration, allowing users to create data workflows through a visual interface.\n",
    "   - **Strengths**:\n",
    "     - No Coding Required: Users can create complex data workflows using a drag-and-drop interface, making it accessible to non-programmers.\n",
    "     - Pre-built Nodes: Extensive library of pre-built nodes for data processing, analysis, and machine learning.\n",
    "     - Integration: Supports integration with other tools and languages like R, Python, Java, and Weka.\n",
    "     - Community and Extensions: Strong community support and availability of numerous extensions to enhance functionality.\n",
    "   - **Usage**: Used for data preprocessing, predictive analytics, business intelligence, and automation of data workflows.\n",
    "\n",
    "6. **Orange**:\n",
    "   - **Overview**: An open-source data visualization and analysis tool for both novice and expert users, through visual programming or Python scripting.\n",
    "   - **Strengths**:\n",
    "     - Intuitive Interface: Easy-to-use visual programming interface that simplifies complex data analysis tasks.\n",
    "     - Versatile Analysis: Supports various data analysis tasks like clustering, classification, regression, and association rules.\n",
    "     - Interactive Visualizations: Provides interactive visualizations that make data exploration engaging and informative.\n",
    "     - Scripting: Allows advanced users to write custom Python scripts to extend functionality.\n",
    "   - **Usage**: Ideal for data mining, machine learning, and interactive data analysis, particularly in educational settings.\n",
    "\n",
    "7. **VS Code (Visual Studio Code)**:\n",
    "   - **Overview**: A free source-code editor made by Microsoft for Windows, Linux, and macOS, supporting debugging, embedded Git control, syntax highlighting, intelligent code completion, and code refactoring.\n",
    "   - **Strengths**:\n",
    "     - Extensibility: Highly extensible with a wide range of plugins and extensions available in the marketplace.\n",
    "     - Integrated Terminal: Built-in terminal that supports command-line operations and tool execution.\n",
    "     - Language Support: Supports multiple programming languages including Python, JavaScript, R, and more.\n",
    "     - Community and Documentation: Strong community support and extensive documentation to assist users.\n",
    "   - **Usage**: General coding, data analysis, and development across various languages and platforms.\n",
    "\n",
    "8. **Google Colab**:\n",
    "   - **Overview**: A free Jupyter notebook environment that runs entirely in the cloud, allowing users to write and execute Python code.\n",
    "   - **Strengths**:\n",
    "     - Cloud-based: No setup required; accessible from any device with an internet connection.\n",
    "     - GPU and TPU Access: Free access to powerful GPUs and TPUs for machine learning tasks.\n",
    "     - Google Drive Integration: Seamless integration with Google Drive for storing and sharing notebooks.\n",
    "     - Collaboration: Easy to share notebooks and collaborate with others in real-time.\n",
    "   - **Usage**: Machine learning, data analysis, educational purposes, and collaborative projects.\n",
    "\n",
    "These tools are integral to the workflow of data scientists, providing powerful environments for coding, analyzing, and sharing data-driven insights. Each tool offers unique features and strengths that cater to different aspects of data science, making them valuable assets in a data scientist's toolkit."
   ]
  },
  {
   "cell_type": "markdown",
   "metadata": {},
   "source": [
    "# Exercise 7 - Create a markdown cell introducing arithmetic expression examples"
   ]
  },
  {
   "cell_type": "markdown",
   "metadata": {},
   "source": [
    "### Below are a few examples of evaluating arithmetic expressions in Python.\n",
    "\n",
    "1. **Addition**:\n",
    "   - **Example**: `3 + 2`\n",
    "   - **Explanation**: Addition combines two numbers into a single sum. In this example, 3 and 2 are added together to give the result 5.\n",
    "   - **Code**:\n",
    "     ```python\n",
    "     result = 3 + 2\n",
    "     print(\"Addition: 3 + 2 =\", result)\n",
    "     ```\n",
    "\n",
    "2. **Subtraction**:\n",
    "   - **Example**: `7 - 4`\n",
    "   - **Explanation**: Subtraction takes one number away from another. Here, 4 is subtracted from 7, resulting in 3.\n",
    "   - **Code**:\n",
    "     ```python\n",
    "     result = 7 - 4\n",
    "     print(\"Subtraction: 7 - 4 =\", result)\n",
    "     ```\n",
    "\n",
    "3. **Multiplication**:\n",
    "   - **Example**: `5 * 6`\n",
    "   - **Explanation**: Multiplication calculates the product of two numbers. In this case, 5 multiplied by 6 gives 30.\n",
    "   - **Code**:\n",
    "     ```python\n",
    "     result = 5 * 6\n",
    "     print(\"Multiplication: 5 * 6 =\", result)\n",
    "     ```\n",
    "\n",
    "4. **Division**:\n",
    "   - **Example**: `8 / 2`\n",
    "   - **Explanation**: Division splits one number by another. Here, 8 is divided by 2, resulting in 4. Note that division in Python returns a float by default.\n",
    "   - **Code**:\n",
    "     ```python\n",
    "     result = 8 / 2\n",
    "     print(\"Division: 8 / 2 =\", result)\n",
    "     ```\n",
    "\n",
    "5. **Exponentiation**:\n",
    "   - **Example**: `3 ** 2`\n",
    "   - **Explanation**: Exponentiation raises one number to the power of another. In this example, 3 raised to the power of 2 (3 squared) gives 9.\n",
    "   - **Code**:\n",
    "     ```python\n",
    "     result = 3 ** 2\n",
    "     print(\"Exponentiation: 3 ** 2 =\", result)\n",
    "     ```\n",
    "\n",
    "6. **Modulus**:\n",
    "   - **Example**: `10 % 3`\n",
    "   - **Explanation**: The modulus operation finds the remainder after division of one number by another. Here, 10 divided by 3 leaves a remainder of 1.\n",
    "   - **Code**:\n",
    "     ```python\n",
    "     result = 10 % 3\n",
    "     print(\"Modulus: 10 % 3 =\", result)\n",
    "     ```\n",
    "\n",
    "7. **Floor Division**:\n",
    "   - **Example**: `9 // 2`\n",
    "   - **Explanation**: Floor division divides one number by another and rounds down to the nearest whole number. In this case, 9 divided by 2 results in 4.\n",
    "   - **Code**:\n",
    "     ```python\n",
    "     result = 9 // 2\n",
    "     print(\"Floor Division: 9 // 2 =\", result)\n",
    "     ```\n",
    "\n",
    "8. **Complex Number Addition**:\n",
    "   - **Example**: `(3 + 2j) + (2 + 3j)`\n",
    "   - **Explanation**: Complex number addition combines the real and imaginary parts separately. In this example, `(3 + 2j) + (2 + 3j)` results in `5 + 5j`.\n",
    "   - **Code**:\n",
    "     ```python\n",
    "     result = (3 + 2j) + (2 + 3j)\n",
    "     print(\"Complex Addition: (3 + 2j) + (2 + 3j) =\", result)\n",
    "     ```\n",
    "\n",
    "9. **Mixed Type Addition**:\n",
    "   - **Example**: `3 + 4.5`\n",
    "   - **Explanation**: When adding an integer and a float, Python automatically converts the integer to a float and performs the addition. Here, `3 + 4.5` results in `7.5`.\n",
    "   - **Code**:\n",
    "     ```python\n",
    "     result = 3 + 4.5\n",
    "     print(\"Mixed Type Addition: 3 + 4.5 =\", result)\n",
    "     ```\n",
    "\n",
    "10. **Order of Operations**:\n",
    "    - **Example**: `3 + 2 * 5`\n",
    "    - **Explanation**: Python follows the order of operations (PEMDAS/BODMAS). In this example, multiplication is performed before addition, so `2 * 5` is evaluated first, resulting in `10`, and then `3 + 10` gives `13`.\n",
    "    - **Code**:\n",
    "      ```python\n",
    "      result = 3 + 2 * 5\n",
    "      print(\"Order of Operations: 3 + 2 * 5 =\", result)\n",
    "      ```\n",
    "\n",
    "11. **Parentheses for Order of Operations**:\n",
    "    - **Example**: `(3 + 2) * 5`\n",
    "    - **Explanation**: Parentheses change the order of operations by ensuring that the expression within them is evaluated first. Here, `(3 + 2)` is evaluated to `5`, and then `5 * 5` gives `25`.\n",
    "    - **Code**:\n",
    "      ```python\n",
    "      result = (3 + 2) * 5\n",
    "      print(\"Parentheses Order: (3 + 2) * 5 =\", result)\n",
    "      ```\n",
    "\n",
    "12. **Negative Numbers**:\n",
    "    - **Example**: `-5 + 3`\n",
    "    - **Explanation**: Arithmetic operations can include negative numbers. Here, `-5 + 3` results in `-2`.\n",
    "    - **Code**:\n",
    "      ```python\n",
    "      result = -5 + 3\n",
    "      print(\"Negative Numbers: -5 + 3 =\", result)\n",
    "      ```\n",
    "\n",
    "These examples demonstrate various arithmetic operations in Python, each with its own specific syntax and behavior. Understanding these basic operations is essential for performing more complex mathematical calculations and data manipulations."
   ]
  },
  {
   "cell_type": "markdown",
   "metadata": {},
   "source": [
    "# Exercise 8 - Create a code cell to multiply and add numbers"
   ]
  },
  {
   "cell_type": "code",
   "execution_count": 8,
   "metadata": {},
   "outputs": [
    {
     "name": "stdout",
     "output_type": "stream",
     "text": [
      "The result of the expression (3 * 4) + 5 is: 17\n"
     ]
    }
   ],
   "source": [
    "# This is a simple arithmetic expression to multiply then add integers.\n",
    "# Multiply 3 by 4, which results in 12.\n",
    "# Add 5 to the result of the multiplication, giving 17.\n",
    "result = (3 * 4) + 5\n",
    "\n",
    "# Print the result of the expression.\n",
    "# This will output: The result of the expression (3 * 4) + 5 is: 17\n",
    "print(\"The result of the expression (3 * 4) + 5 is:\", result)"
   ]
  },
  {
   "cell_type": "markdown",
   "metadata": {},
   "source": [
    "# Exercise 9 - Create a code cell to convert minutes to hours"
   ]
  },
  {
   "cell_type": "code",
   "execution_count": 9,
   "metadata": {},
   "outputs": [
    {
     "name": "stdout",
     "output_type": "stream",
     "text": [
      "The result of converting 200 minutes to hours is: 3.3333333333333335\n"
     ]
    }
   ],
   "source": [
    "# This will convert 200 minutes to hours by dividing by 60.\n",
    "# Define the number of minutes to be converted.\n",
    "minutes = 200\n",
    "\n",
    "# Convert minutes to hours by dividing the number of minutes by 60.\n",
    "# Explanation:\n",
    "# - There are 60 minutes in an hour.\n",
    "# - To convert minutes to hours, divide the total minutes by 60.\n",
    "# - In this case, 200 minutes divided by 60 will give the equivalent number of hours.\n",
    "hours = minutes / 60\n",
    "\n",
    "# Print the result of the conversion.\n",
    "# This will output: The result of converting 200 minutes to hours is: 3.3333333333333335\n",
    "print(\"The result of converting 200 minutes to hours is:\", hours)"
   ]
  },
  {
   "cell_type": "markdown",
   "metadata": {},
   "source": [
    "# Exercise 10 - Insert a markdown cell to list Objectives"
   ]
  },
  {
   "cell_type": "markdown",
   "metadata": {},
   "source": [
    "**Objectives:**\n",
    "\n",
    "- **Understand Key Data Science Concepts**: \n",
    "  - Gain a foundational understanding of key data science concepts, including data manipulation, data analysis, and data visualization.\n",
    "  - Learn the significance and applications of data science in various fields.\n",
    "\n",
    "- **Explore Popular Data Science Languages**:\n",
    "  - Identify and explore popular programming languages used in data science, such as Python, R, SQL, and Julia.\n",
    "  - Understand the strengths and use cases of each language.\n",
    "\n",
    "- **List Popular Languages for Data Science**:\n",
    "  - Enumerate and provide an overview of commonly used languages in data science, highlighting their importance.\n",
    "  - Discuss specific features and applications of languages like Python, R, SQL, Julia, and more.\n",
    "\n",
    "- **Learn About Data Science Tools and Libraries**:\n",
    "  - Familiarize with various open-source tools and integrated development environments (IDEs) used in data science, including Jupyter Notebook, RStudio, and Apache Zeppelin.\n",
    "  - Explore commonly used data science libraries like NumPy, Pandas, scikit-learn, and TensorFlow.\n",
    "\n",
    "- **Perform Arithmetic and Data Manipulation**:\n",
    "  - Practice basic arithmetic operations in Python, such as addition, subtraction, multiplication, and division.\n",
    "  - Convert units (e.g., minutes to hours) and perform other data manipulation tasks.\n",
    "\n",
    "- **Evaluate and Visualize Data**:\n",
    "  - Learn how to evaluate and analyze data using different statistical and machine learning techniques.\n",
    "  - Create visualizations to represent data insights effectively.\n",
    "\n",
    "These objectives aim to provide a solid foundation in data science, equipping you with the knowledge and skills to tackle real-world data challenges."
   ]
  },
  {
   "cell_type": "markdown",
   "metadata": {},
   "source": [
    "# Exercise 11 - Create a markdown cell to indicate the Author's name"
   ]
  },
  {
   "cell_type": "markdown",
   "metadata": {},
   "source": [
    "## Author\n",
    "\n",
    "Ady Syamsuri\n",
    "\n",
    "© 2025 Ady Syamsuri. All rights reserved."
   ]
  },
  {
   "cell_type": "markdown",
   "metadata": {},
   "source": [
    "Copyright ©2024 IBM Corporation. All rights reserved.\n"
   ]
  }
 ],
 "metadata": {
  "kernelspec": {
   "display_name": "Python 3 (ipykernel)",
   "language": "python",
   "name": "python3"
  },
  "language_info": {
   "codemirror_mode": {
    "name": "ipython",
    "version": 3
   },
   "file_extension": ".py",
   "mimetype": "text/x-python",
   "name": "python",
   "nbconvert_exporter": "python",
   "pygments_lexer": "ipython3",
   "version": "3.12.7"
  },
  "prev_pub_hash": "9e1985db9844176462bd1d5863048c9f3d17404bbc6a648be9084b0c42b29347"
 },
 "nbformat": 4,
 "nbformat_minor": 4
}
